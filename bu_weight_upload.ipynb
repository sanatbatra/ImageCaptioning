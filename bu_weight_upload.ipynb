{
  "nbformat": 4,
  "nbformat_minor": 0,
  "metadata": {
    "colab": {
      "name": "bu_weight_upload.ipynb",
      "provenance": [],
      "collapsed_sections": []
    },
    "kernelspec": {
      "name": "python3",
      "display_name": "Python 3"
    }
  },
  "cells": [
    {
      "cell_type": "code",
      "metadata": {
        "colab": {
          "base_uri": "https://localhost:8080/"
        },
        "id": "ahEv0QoKknAl",
        "outputId": "763ce022-8c62-4ac3-b855-e54f7a7de144"
      },
      "source": [
        "from google.colab import drive\n",
        "drive.mount('/content/drive')\n",
        "%cd  /content/drive/'My Drive'/"
      ],
      "execution_count": null,
      "outputs": [
        {
          "output_type": "stream",
          "text": [
            "Mounted at /content/drive\n",
            "/content/drive/My Drive\n"
          ],
          "name": "stdout"
        }
      ]
    },
    {
      "cell_type": "code",
      "metadata": {
        "colab": {
          "base_uri": "https://localhost:8080/"
        },
        "id": "R0tEo4fsVSuV",
        "outputId": "39385e03-8ecf-4913-8ab9-e98dac5c907b"
      },
      "source": [
        "!wget 'https://imagecaption.blob.core.windows.net/imagecaption/trainval.zip'"
      ],
      "execution_count": null,
      "outputs": [
        {
          "output_type": "stream",
          "text": [
            "--2020-11-28 10:11:08--  https://imagecaption.blob.core.windows.net/imagecaption/trainval.zip\n",
            "Resolving imagecaption.blob.core.windows.net (imagecaption.blob.core.windows.net)... 52.239.161.42\n",
            "Connecting to imagecaption.blob.core.windows.net (imagecaption.blob.core.windows.net)|52.239.161.42|:443... connected.\n",
            "HTTP request sent, awaiting response... 200 OK\n",
            "Length: 23710752348 (22G) [application/x-zip-compressed]\n",
            "Saving to: ‘trainval.zip’\n",
            "\n",
            "trainval.zip         27%[====>               ]   6.13G  4.08MB/s    eta 55m 27s^C\n"
          ],
          "name": "stdout"
        }
      ]
    },
    {
      "cell_type": "code",
      "metadata": {
        "colab": {
          "base_uri": "https://localhost:8080/"
        },
        "id": "bBT3rRZZVbk5",
        "outputId": "77c4bfe8-19ba-4c5a-f679-4fe7dc9daddd"
      },
      "source": [
        "!wget -c 'https://imagecaption.blob.core.windows.net/imagecaption/trainval.zip'"
      ],
      "execution_count": null,
      "outputs": [
        {
          "output_type": "stream",
          "text": [
            "--2020-11-28 10:36:04--  https://imagecaption.blob.core.windows.net/imagecaption/trainval.zip\n",
            "Resolving imagecaption.blob.core.windows.net (imagecaption.blob.core.windows.net)... 52.239.161.42\n",
            "Connecting to imagecaption.blob.core.windows.net (imagecaption.blob.core.windows.net)|52.239.161.42|:443... connected.\n",
            "HTTP request sent, awaiting response... 200 OK\n",
            "Length: 23710752348 (22G) [application/x-zip-compressed]\n",
            "Saving to: ‘trainval.zip’\n",
            "\n",
            "trainval.zip        100%[===================>]  22.08G  16.4MB/s    in 25m 28s \n",
            "\n",
            "2020-11-28 11:01:32 (14.8 MB/s) - ‘trainval.zip’ saved [23710752348/23710752348]\n",
            "\n"
          ],
          "name": "stdout"
        }
      ]
    },
    {
      "cell_type": "code",
      "metadata": {
        "colab": {
          "base_uri": "https://localhost:8080/",
          "height": 130
        },
        "id": "oTZicaG7UR2p",
        "outputId": "3a276d14-57c8-4ec2-84ab-48f652b6cd52"
      },
      "source": [
        "wget 'https://imagecaption.blob.core.windows.net/imagecaption/trainval.zip'"
      ],
      "execution_count": null,
      "outputs": [
        {
          "output_type": "error",
          "ename": "SyntaxError",
          "evalue": "ignored",
          "traceback": [
            "\u001b[0;36m  File \u001b[0;32m\"<ipython-input-1-9cca438ee6f2>\"\u001b[0;36m, line \u001b[0;32m1\u001b[0m\n\u001b[0;31m    wget 'https://imagecaption.blob.core.windows.net/imagecaption/trainval.zip'\u001b[0m\n\u001b[0m                                                                              ^\u001b[0m\n\u001b[0;31mSyntaxError\u001b[0m\u001b[0;31m:\u001b[0m invalid syntax\n"
          ]
        }
      ]
    },
    {
      "cell_type": "code",
      "metadata": {
        "colab": {
          "base_uri": "https://localhost:8080/"
        },
        "id": "33WnsoEMkxnk",
        "outputId": "160cbf25-8ef5-41c9-9caf-ad66e07a25a1"
      },
      "source": [
        "!ls"
      ],
      "execution_count": null,
      "outputs": [
        {
          "output_type": "stream",
          "text": [
            " assign2_dataset\n",
            "'Colab Notebooks'\n",
            "'CV Project Proposal.gdoc'\n",
            " dataset.ipynb\n",
            "'Final project proposal.pdf'\n",
            " image_captioning\n",
            "'Image Captioning.gdoc'\n",
            " object_detection\n",
            " object_detection_weights\n",
            "'peteanderson80 bottom-up-attention: Bottom-up.png'\n",
            "'Pointer Generator.gdoc'\n",
            "'Project Proposal.gdoc'\n",
            " Randrunner.gdoc\n",
            " text_summarization\n",
            "'Text Summarization Methodologies.gdoc'\n",
            " trainval.zip\n"
          ],
          "name": "stdout"
        }
      ]
    },
    {
      "cell_type": "code",
      "metadata": {
        "colab": {
          "base_uri": "https://localhost:8080/"
        },
        "id": "f_6THIyKkz5R",
        "outputId": "8aac917c-b6c5-493c-fc08-291bf948f1e7"
      },
      "source": [
        "!unzip trainval.zip"
      ],
      "execution_count": null,
      "outputs": [
        {
          "output_type": "stream",
          "text": [
            "Archive:  trainval.zip\n",
            "   creating: trainval/\n",
            "  inflating: trainval/karpathy_test_resnet101_faster_rcnn_genome.tsv  \n",
            "  inflating: trainval/karpathy_train_resnet101_faster_rcnn_genome.tsv.0  \n",
            "  inflating: trainval/karpathy_train_resnet101_faster_rcnn_genome.tsv.1  \n",
            "  inflating: trainval/karpathy_val_resnet101_faster_rcnn_genome.tsv  \n"
          ],
          "name": "stdout"
        }
      ]
    },
    {
      "cell_type": "code",
      "metadata": {
        "colab": {
          "base_uri": "https://localhost:8080/"
        },
        "id": "slZEiaudlM09",
        "outputId": "c7deee15-18a0-4dec-fad4-acb0e0c99a38"
      },
      "source": [
        "!wget -c 'https://imagecaption.blob.core.windows.net/imagecaption/test2014.zip'"
      ],
      "execution_count": null,
      "outputs": [
        {
          "output_type": "stream",
          "text": [
            "--2020-11-28 11:38:55--  https://imagecaption.blob.core.windows.net/imagecaption/test2014.zip\n",
            "Resolving imagecaption.blob.core.windows.net (imagecaption.blob.core.windows.net)... 52.239.161.42\n",
            "Connecting to imagecaption.blob.core.windows.net (imagecaption.blob.core.windows.net)|52.239.161.42|:443... connected.\n",
            "HTTP request sent, awaiting response... 200 OK\n",
            "Length: 7766418936 (7.2G) [application/x-zip-compressed]\n",
            "Saving to: ‘test2014.zip’\n",
            "\n",
            "test2014.zip        100%[===================>]   7.23G  16.2MB/s    in 9m 4s   \n",
            "\n",
            "2020-11-28 11:48:00 (13.6 MB/s) - ‘test2014.zip’ saved [7766418936/7766418936]\n",
            "\n"
          ],
          "name": "stdout"
        }
      ]
    },
    {
      "cell_type": "code",
      "metadata": {
        "colab": {
          "base_uri": "https://localhost:8080/"
        },
        "id": "j26EjLOGphqw",
        "outputId": "84e12508-074f-4b6e-d954-be27c346c741"
      },
      "source": [
        "!ls"
      ],
      "execution_count": null,
      "outputs": [
        {
          "output_type": "stream",
          "text": [
            " assign2_dataset\n",
            "'Colab Notebooks'\n",
            "'CV Project Proposal.gdoc'\n",
            " dataset.ipynb\n",
            "'Final project proposal.pdf'\n",
            " image_captioning\n",
            "'Image Captioning.gdoc'\n",
            " object_detection\n",
            " object_detection_weights\n",
            "'peteanderson80 bottom-up-attention: Bottom-up.png'\n",
            "'Pointer Generator.gdoc'\n",
            "'Project Proposal.gdoc'\n",
            " Randrunner.gdoc\n",
            " test2014.zip\n",
            " text_summarization\n",
            "'Text Summarization Methodologies.gdoc'\n",
            " trainval\n",
            " trainval.zip\n"
          ],
          "name": "stdout"
        }
      ]
    },
    {
      "cell_type": "code",
      "metadata": {
        "colab": {
          "base_uri": "https://localhost:8080/"
        },
        "id": "84IeA5ZyrpKf",
        "outputId": "5bae917a-2590-41fe-f27b-44905e77e9f6"
      },
      "source": [
        "!unzip test2014.zip"
      ],
      "execution_count": null,
      "outputs": [
        {
          "output_type": "stream",
          "text": [
            "Archive:  test2014.zip\n",
            "   creating: test2014/\n",
            "  inflating: test2014/test2014_resnet101_faster_rcnn_genome.tsv.0  \n",
            "  inflating: test2014/test2014_resnet101_faster_rcnn_genome.tsv.1  \n",
            "  inflating: test2014/test2014_resnet101_faster_rcnn_genome.tsv.2  \n"
          ],
          "name": "stdout"
        }
      ]
    },
    {
      "cell_type": "code",
      "metadata": {
        "colab": {
          "base_uri": "https://localhost:8080/"
        },
        "id": "M2tiGLByrts2",
        "outputId": "e7854fb4-f451-4571-b0e5-28cd7a13b787"
      },
      "source": [
        "!wget -c 'https://drive.google.com/u/0/uc?id=1b3rmCSIoh6VhD4HKWjI4HOW-cSwcwbeC'"
      ],
      "execution_count": null,
      "outputs": [
        {
          "output_type": "stream",
          "text": [
            "--2020-11-28 11:57:12--  https://drive.google.com/u/0/uc?id=1b3rmCSIoh6VhD4HKWjI4HOW-cSwcwbeC\n",
            "Resolving drive.google.com (drive.google.com)... 172.217.193.138, 172.217.193.139, 172.217.193.101, ...\n",
            "Connecting to drive.google.com (drive.google.com)|172.217.193.138|:443... connected.\n",
            "HTTP request sent, awaiting response... 200 OK\n",
            "Length: unspecified [text/html]\n",
            "Saving to: ‘uc?id=1b3rmCSIoh6VhD4HKWjI4HOW-cSwcwbeC’\n",
            "\n",
            "uc?id=1b3rmCSIoh6Vh     [ <=>                ]   3.16K  --.-KB/s    in 0.002s  \n",
            "\n",
            "2020-11-28 11:57:12 (1.56 MB/s) - ‘uc?id=1b3rmCSIoh6VhD4HKWjI4HOW-cSwcwbeC’ saved [3231]\n",
            "\n"
          ],
          "name": "stdout"
        }
      ]
    },
    {
      "cell_type": "code",
      "metadata": {
        "colab": {
          "base_uri": "https://localhost:8080/"
        },
        "id": "tyBW2R29ttc0",
        "outputId": "b7c12233-c535-48e3-a2ff-e5521189e19e"
      },
      "source": [
        "!gdown https://drive.google.com/u/0/uc?id=1b3rmCSIoh6VhD4HKWjI4HOW-cSwcwbeC "
      ],
      "execution_count": null,
      "outputs": [
        {
          "output_type": "stream",
          "text": [
            "Downloading...\n",
            "From: https://drive.google.com/u/0/uc?id=1b3rmCSIoh6VhD4HKWjI4HOW-cSwcwbeC\n",
            "To: /content/drive/My Drive/arxiv-dataset.zip\n",
            "3.62GB [00:45, 80.3MB/s]\n"
          ],
          "name": "stdout"
        }
      ]
    },
    {
      "cell_type": "code",
      "metadata": {
        "colab": {
          "base_uri": "https://localhost:8080/"
        },
        "id": "-yHkQY3iuWK1",
        "outputId": "56a1eda4-1f81-4dcb-9525-d52667c0f309"
      },
      "source": [
        "!ls"
      ],
      "execution_count": null,
      "outputs": [
        {
          "output_type": "stream",
          "text": [
            " arxiv-dataset.zip\n",
            " assign2_dataset\n",
            "'Colab Notebooks'\n",
            "'CV Project Proposal.gdoc'\n",
            " dataset.ipynb\n",
            "'Final project proposal.pdf'\n",
            " image_captioning\n",
            "'Image Captioning.gdoc'\n",
            " object_detection\n",
            " object_detection_weights\n",
            "'peteanderson80 bottom-up-attention: Bottom-up.png'\n",
            "'Pointer Generator.gdoc'\n",
            "'Project Proposal.gdoc'\n",
            " Randrunner.gdoc\n",
            " test2014.zip\n",
            " text_summarization\n",
            "'Text Summarization Methodologies.gdoc'\n",
            " trainval.zip\n"
          ],
          "name": "stdout"
        }
      ]
    },
    {
      "cell_type": "code",
      "metadata": {
        "colab": {
          "base_uri": "https://localhost:8080/"
        },
        "id": "gS8lrSqju2iR",
        "outputId": "c108be55-1e84-487a-aec7-d564d1873c29"
      },
      "source": [
        "!unzip arxiv-dataset.zip"
      ],
      "execution_count": null,
      "outputs": [
        {
          "output_type": "stream",
          "text": [
            "Archive:  arxiv-dataset.zip\n",
            "   creating: arxiv-dataset/\n",
            "  inflating: __MACOSX/._arxiv-dataset  \n",
            "  inflating: arxiv-dataset/train.txt  \n",
            "  inflating: __MACOSX/arxiv-dataset/._train.txt  \n",
            "  inflating: arxiv-dataset/vocab     \n",
            "  inflating: __MACOSX/arxiv-dataset/._vocab  \n",
            "  inflating: arxiv-dataset/test.txt  \n",
            "  inflating: __MACOSX/arxiv-dataset/._test.txt  \n",
            "  inflating: arxiv-dataset/val.txt   \n",
            "  inflating: __MACOSX/arxiv-dataset/._val.txt  \n"
          ],
          "name": "stdout"
        }
      ]
    },
    {
      "cell_type": "code",
      "metadata": {
        "id": "dISTi22hu8fn"
      },
      "source": [
        ""
      ],
      "execution_count": null,
      "outputs": []
    }
  ]
}